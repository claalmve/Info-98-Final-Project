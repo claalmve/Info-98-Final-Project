{
 "cells": [
  {
   "cell_type": "markdown",
   "metadata": {},
   "source": [
    "# Info 98 Final Project\n",
    "### By Calvin Chen, Jusheen Kim, Jamila Hussein"
   ]
  },
  {
   "cell_type": "code",
   "execution_count": 1,
   "metadata": {},
   "outputs": [],
   "source": [
    "import numpy as np\n",
    "import pandas as pd\n",
    "from datascience import *\n",
    "import sys\n",
    "import scipy\n",
    "import sklearn\n",
    "\n",
    "import matplotlib\n",
    "%matplotlib inline\n",
    "import matplotlib.pyplot as plt\n",
    "import matplotlib as mpl\n",
    "import seaborn as sns\n",
    "plt.style.use('fivethirtyeight')\n",
    "import warnings\n",
    "warnings.simplefilter('ignore', FutureWarning)\n",
    "from matplotlib import patches\n",
    "from ipywidgets import interact, interactive, fixed\n",
    "import ipywidgets as widgets\n",
    "sqrt = np.sqrt\n",
    "\n",
    "from pandas.plotting import scatter_matrix\n",
    "from sklearn import model_selection, datasets, linear_model\n",
    "from sklearn import preprocessing\n",
    "from sklearn.metrics import classification_report\n",
    "from sklearn.metrics import confusion_matrix\n",
    "from sklearn.metrics import accuracy_score\n",
    "from sklearn.metrics import mean_squared_error, r2_score\n",
    "from sklearn.linear_model import LogisticRegression\n",
    "from sklearn.neighbors import KNeighborsClassifier\n",
    "from sklearn.svm import SVC"
   ]
  },
  {
   "cell_type": "markdown",
   "metadata": {},
   "source": [
    "# Dataset 1"
   ]
  },
  {
   "cell_type": "code",
   "execution_count": 2,
   "metadata": {},
   "outputs": [],
   "source": [
    "# Data extraction and cleaning\n",
    "cleaning, cleaned = open('haberman.data.txt').read().split(\"\\n\"), Table(['Age', 'Year Op', 'Num of Pos Aux Nodes', 'Survival Status'])\n",
    "cleaning = cleaning[0:len(cleaning)-1]\n",
    "for i in range(len(cleaning)):\n",
    "    cleaned = cleaned.with_row([int(j) for j in cleaning[i].split(',')])\n",
    "random_cleaned = cleaned.sample(with_replacement=False)\n",
    "\n",
    "train_set = random_cleaned.take(np.arange(0, int(random_cleaned.num_rows * 0.8)))\n",
    "train_status, train_set = train_set.column('Survival Status'), train_set.drop('Survival Status')\n",
    "\n",
    "test_set = random_cleaned.take(np.arange(int(random_cleaned.num_rows * 0.8), random_cleaned.num_rows))\n",
    "test_status, test_set = test_set.column('Survival Status'), test_set.drop('Survival Status')"
   ]
  },
  {
   "cell_type": "code",
   "execution_count": 3,
   "metadata": {},
   "outputs": [],
   "source": [
    "# RMSE (Used for kNN to determine nearest neighbors and used for LinReg to determine accuracy of the regression)\n",
    "def RMSE(array1, array2):\n",
    "    return sqrt(sum((array1 - array2) ** 2))"
   ]
  },
  {
   "cell_type": "code",
   "execution_count": 4,
   "metadata": {},
   "outputs": [],
   "source": [
    "# Creating the kNN Model\n",
    "def distances(test_row, train_set):\n",
    "    distances = make_array()\n",
    "    for row in train_set.rows:\n",
    "        distances = np.append(distances, RMSE(make_array(row)[0], test_row))\n",
    "    return distances\n",
    "\n",
    "def classify(test_row, train_set, k):\n",
    "    classes_and_distances = Table().with_columns('Test Status', train_status, 'Distances', distances(test_row, train_set)).sort('Distances')\n",
    "    return classes_and_distances.take(np.arange(k)).group('Test Status').sort('count', descending=True).column(0).item(0)\n",
    "\n",
    "def accuracy(test_set, train_set, k):\n",
    "    classes = make_array()\n",
    "    for row in test_set.rows:\n",
    "        classes = np.append(classes, classify(make_array(row)[0], train_set, k))\n",
    "    comparison = Table().with_columns('Predicted Status', classes, 'Actual Status', test_status)\n",
    "    return np.count_nonzero(comparison.column(0) == comparison.column(1)) / len(comparison.column(0)) * 100"
   ]
  },
  {
   "cell_type": "code",
   "execution_count": 5,
   "metadata": {},
   "outputs": [
    {
     "data": {
      "text/html": [
       "<table border=\"1\" class=\"dataframe\">\n",
       "    <thead>\n",
       "        <tr>\n",
       "            <th>k</th> <th>Accuracy</th>\n",
       "        </tr>\n",
       "    </thead>\n",
       "    <tbody>\n",
       "        <tr>\n",
       "            <td>15  </td> <td>87.0968 </td>\n",
       "        </tr>\n",
       "    </tbody>\n",
       "        <tr>\n",
       "            <td>16  </td> <td>87.0968 </td>\n",
       "        </tr>\n",
       "    </tbody>\n",
       "        <tr>\n",
       "            <td>17  </td> <td>87.0968 </td>\n",
       "        </tr>\n",
       "    </tbody>\n",
       "</table>"
      ],
      "text/plain": [
       "k    | Accuracy\n",
       "15   | 87.0968\n",
       "16   | 87.0968\n",
       "17   | 87.0968"
      ]
     },
     "execution_count": 5,
     "metadata": {},
     "output_type": "execute_result"
    }
   ],
   "source": [
    "# Testing\n",
    "best_k = Table(['k', 'Accuracy'])\n",
    "for i in range(1, 20): # Only using k-values from 1 to 20\n",
    "    best_k = best_k.with_row([i, accuracy(test_set, train_set, i)])\n",
    "best_k.where('Accuracy', are.equal_to(max(best_k.column(1))))"
   ]
  },
  {
   "cell_type": "code",
   "execution_count": 6,
   "metadata": {},
   "outputs": [],
   "source": [
    "# Creating the linear regression\n",
    "def standard_units(xyz):\n",
    "    return (xyz - np.mean(xyz))/np.std(xyz)\n",
    "\n",
    "def correlation(t, label_x, label_y):\n",
    "    return np.mean(standard_units(t.column(label_x))*standard_units(t.column(label_y)))\n",
    "\n",
    "def slope(t, label_x, label_y):\n",
    "    r = correlation(t, label_x, label_y)\n",
    "    return r*np.std(t.column(label_y))/np.std(t.column(label_x))\n",
    "\n",
    "def intercept(t, label_x, label_y):\n",
    "    return np.mean(t.column(label_y)) - slope(t, label_x, label_y)*np.mean(t.column(label_x))"
   ]
  },
  {
   "cell_type": "code",
   "execution_count": 7,
   "metadata": {},
   "outputs": [
    {
     "name": "stdout",
     "output_type": "stream",
     "text": [
      "Training set accuracy: 4.098360655737705\n"
     ]
    }
   ],
   "source": [
    "# Linear regression on Training Set w/ Residuals\n",
    "intercept, slope = intercept(train_set, 'Num of Pos Aux Nodes', 'Age'), slope(train_set, 'Num of Pos Aux Nodes', 'Age')\n",
    "\n",
    "lin_train = train_set\n",
    "guesses = lin_train.with_column('Guesses', slope * train_set.column('Num of Pos Aux Nodes') + intercept)\n",
    "residuals = guesses.with_column('Residuals', guesses.column('Guesses') - guesses.column('Age'))\n",
    "\n",
    "accuracy = np.count_nonzero(np.round(residuals.column('Residuals')) == 0) / len(residuals.column('Residuals')) * 100\n",
    "print(\"Training set accuracy: %s\" % accuracy)"
   ]
  },
  {
   "cell_type": "code",
   "execution_count": 8,
   "metadata": {},
   "outputs": [
    {
     "name": "stdout",
     "output_type": "stream",
     "text": [
      "Training set accuracy: 1.6129032258064515\n"
     ]
    }
   ],
   "source": [
    "# Testing\n",
    "test_ages, test_nodes = test_set.column('Age'), test_set.column('Num of Pos Aux Nodes')\n",
    "accuracy = np.count_nonzero(np.round(test_ages - (slope * test_nodes + intercept)) == 0) / len(test_nodes) * 100\n",
    "print(\"Training set accuracy: %s\" % accuracy)"
   ]
  },
  {
   "cell_type": "markdown",
   "metadata": {},
   "source": [
    "### Explanation"
   ]
  },
  {
   "cell_type": "markdown",
   "metadata": {},
   "source": [
    "The dataset I chose was the Haberman dataset, where the data consisted of three variables, age, year of operation, and the number of positive auxiliary nodes, and an outcome which was whether or not that patient survived after breast cancer surgery. So, for this dataset, I decided to use K-Nearest Neighbors and Linear Regression. I processed my data in the beginning by opening the text file, and then parsing through the data by splitting lines with .split(\"\\n\") and then parsed through every line and appended them to a table with .split(\" \"). Once I was done with that, I converted each cell to an integer rather than a string, and then I was finally done with cleaning my data and could begin testing models off of it.\n",
    "\n",
    "The first thing I did after that was split my data into a test_set and a train_set (20% of the data and 80% of the data respectively). From there, I built my kNN model by comparing each row in the test_set with the closest k neighbors in the train_set, and then determined the classification of each row in the test_set by the most common class of the k nearest neighbors selected. I didn't end up selecting certain features, as there were only 3 to begin with, so I just built the model around the features provided. I also went further to determine the accuracy of the model, and determine the k-values that corresponded to the highest accuracy k-value(s).\n",
    "\n",
    "Results: pretty accurate (around 80% accuracy for every model).\n",
    "\n",
    "The next thing I did was built the linear regression model. I didn't end up using linear regression to determine whether or not someone had survived a surgery for breast cancer, but rather determine the relationship between the Age and the Number of Positive Auxiliary Nodes each person had. I figured that if there was a correlation between those two variables, and a correlation between the Number of Positive Auxiliary Nodes each person had and whether or not someone survived the surgery (it seemed the most logical), then I could deduce that there is a correlation between Age and Survival Status. So, I build my linear regression pertaining to Age and Number of Positive Auxiliary Nodes, and found the best fit line for the two variables. After that, I trained my train_set on that data, and determined how accurate my model was with the training data. Once I determined that accuracy, I went on to determine how accurate my model was on the test data, which was the premise of making the linear regression model.\n",
    "\n",
    "Results: pretty terribly inaccurate (on average less than 3% accuracy for each linear regression model)."
   ]
  },
  {
   "cell_type": "markdown",
   "metadata": {},
   "source": [
    "# Dataset 2"
   ]
  },
  {
   "cell_type": "code",
   "execution_count": 9,
   "metadata": {},
   "outputs": [],
   "source": [
    "url = \"https://archive.ics.uci.edu/ml/machine-learning-databases/iris/iris.data\"\n",
    "names = ['sepal-length', 'sepal-width', 'petal-length', 'petal-width', 'class']\n",
    "dataset = pd.read_csv(url, names=names)"
   ]
  },
  {
   "cell_type": "code",
   "execution_count": 10,
   "metadata": {},
   "outputs": [
    {
     "name": "stdout",
     "output_type": "stream",
     "text": [
      "(150, 5)\n"
     ]
    }
   ],
   "source": [
    "print(dataset.shape)"
   ]
  },
  {
   "cell_type": "code",
   "execution_count": 11,
   "metadata": {},
   "outputs": [
    {
     "name": "stdout",
     "output_type": "stream",
     "text": [
      "       sepal-length  sepal-width  petal-length  petal-width\n",
      "count    150.000000   150.000000    150.000000   150.000000\n",
      "mean       5.843333     3.054000      3.758667     1.198667\n",
      "std        0.828066     0.433594      1.764420     0.763161\n",
      "min        4.300000     2.000000      1.000000     0.100000\n",
      "25%        5.100000     2.800000      1.600000     0.300000\n",
      "50%        5.800000     3.000000      4.350000     1.300000\n",
      "75%        6.400000     3.300000      5.100000     1.800000\n",
      "max        7.900000     4.400000      6.900000     2.500000\n"
     ]
    }
   ],
   "source": [
    "print(dataset.describe())"
   ]
  },
  {
   "cell_type": "code",
   "execution_count": 12,
   "metadata": {},
   "outputs": [
    {
     "name": "stdout",
     "output_type": "stream",
     "text": [
      "class\n",
      "Iris-setosa        50\n",
      "Iris-versicolor    50\n",
      "Iris-virginica     50\n",
      "dtype: int64\n"
     ]
    }
   ],
   "source": [
    "print(dataset.groupby('class').size())"
   ]
  },
  {
   "cell_type": "code",
   "execution_count": 13,
   "metadata": {},
   "outputs": [
    {
     "data": {
      "image/png": "[encoded data removed]",
      "text/plain": [
       "<matplotlib.figure.Figure at 0x1a0a7be7b8>"
      ]
     },
     "metadata": {},
     "output_type": "display_data"
    }
   ],
   "source": [
    "scatter_matrix(dataset)\n",
    "plt.show()"
   ]
  },
  {
   "cell_type": "code",
   "execution_count": 14,
   "metadata": {},
   "outputs": [],
   "source": [
    "array = dataset.values\n",
    "X = array[:,0:4]\n",
    "Y = array[:,4]\n",
    "validation_size = 0.20\n",
    "seed = 7\n",
    "X_train, X_validation, Y_train, Y_validation = model_selection.train_test_split(X, Y, test_size=validation_size, random_state=seed)"
   ]
  },
  {
   "cell_type": "code",
   "execution_count": 15,
   "metadata": {},
   "outputs": [],
   "source": [
    "# Test options and evaluation metric\n",
    "seed = 7\n",
    "scoring = 'accuracy'"
   ]
  },
  {
   "cell_type": "code",
   "execution_count": 16,
   "metadata": {},
   "outputs": [
    {
     "name": "stdout",
     "output_type": "stream",
     "text": [
      "LR: 0.966667 (0.040825)\n",
      "KNN: 0.983333 (0.033333)\n"
     ]
    }
   ],
   "source": [
    "models = []\n",
    "models.append(('LR', LogisticRegression()))\n",
    "models.append(('KNN', KNeighborsClassifier()))\n",
    "# evaluate each model in turn\n",
    "results = []\n",
    "names = []\n",
    "for name, model in models:\n",
    "\tkfold = model_selection.KFold(n_splits=10, random_state=seed)\n",
    "\tcv_results = model_selection.cross_val_score(model, X_train, Y_train, cv=kfold, scoring=scoring)\n",
    "\tresults.append(cv_results)\n",
    "\tnames.append(name)\n",
    "\tmsg = \"%s: %f (%f)\" % (name, cv_results.mean(), cv_results.std())\n",
    "\tprint(msg)"
   ]
  },
  {
   "cell_type": "code",
   "execution_count": 17,
   "metadata": {},
   "outputs": [
    {
     "data": {
      "image/png": "[encoded data removed]",
      "text/plain": [
       "<matplotlib.figure.Figure at 0x1a141593c8>"
      ]
     },
     "metadata": {},
     "output_type": "display_data"
    }
   ],
   "source": [
    "# Comparing the Algorithms\n",
    "fig = plt.figure()\n",
    "fig.suptitle('Algorithm Comparison')\n",
    "ax = fig.add_subplot(111)\n",
    "plt.boxplot(results)\n",
    "ax.set_xticklabels(names)\n",
    "plt.show()"
   ]
  },
  {
   "cell_type": "code",
   "execution_count": 18,
   "metadata": {},
   "outputs": [
    {
     "name": "stdout",
     "output_type": "stream",
     "text": [
      "0.9\n",
      "[[ 7  0  0]\n",
      " [ 0 11  1]\n",
      " [ 0  2  9]]\n",
      "                 precision    recall  f1-score   support\n",
      "\n",
      "    Iris-setosa       1.00      1.00      1.00         7\n",
      "Iris-versicolor       0.85      0.92      0.88        12\n",
      " Iris-virginica       0.90      0.82      0.86        11\n",
      "\n",
      "    avg / total       0.90      0.90      0.90        30\n",
      "\n"
     ]
    }
   ],
   "source": [
    "# Using KNN Algorithm to make Predications on the Validation Data Set\n",
    "knn = KNeighborsClassifier()\n",
    "knn.fit(X_train, Y_train)\n",
    "predictions = knn.predict(X_validation)\n",
    "print(accuracy_score(Y_validation, predictions))\n",
    "print(confusion_matrix(Y_validation, predictions))\n",
    "print(classification_report(Y_validation, predictions))"
   ]
  },
  {
   "cell_type": "code",
   "execution_count": 19,
   "metadata": {},
   "outputs": [
    {
     "name": "stdout",
     "output_type": "stream",
     "text": [
      "0.8\n",
      "[[ 7  0  0]\n",
      " [ 0  7  5]\n",
      " [ 0  1 10]]\n",
      "                 precision    recall  f1-score   support\n",
      "\n",
      "    Iris-setosa       1.00      1.00      1.00         7\n",
      "Iris-versicolor       0.88      0.58      0.70        12\n",
      " Iris-virginica       0.67      0.91      0.77        11\n",
      "\n",
      "    avg / total       0.83      0.80      0.80        30\n",
      "\n"
     ]
    }
   ],
   "source": [
    "# Using Logistic Regression Algorithm for Prediction test on Validation Set data\n",
    "logr = LogisticRegression()\n",
    "logr.fit(X_train, Y_train)\n",
    "predictions = logr.predict(X_validation)\n",
    "print(accuracy_score(Y_validation, predictions))\n",
    "print(confusion_matrix(Y_validation, predictions))\n",
    "print(classification_report(Y_validation, predictions))"
   ]
  },
  {
   "cell_type": "markdown",
   "metadata": {},
   "source": [
    "#### Explanation\n",
    "\n",
    "First I thought about what the models are supposed to tell me\n",
    "If given a future data set, these models will be able predict what kind of flower each plant is up to a certain % accuracy.\n",
    "\n",
    "Second I loaded some Python libraries for certain useful functions\n",
    "I also imported libraries, and some of their functions \n",
    "\n",
    "After, I loaded the data set I chose: Iris\n",
    "\n",
    "I then visualized the data so I could get a feel for what I was working with\n",
    "I also got some general statistical info about the data set in addtion to the scatterplot matrix\n",
    "\n",
    "I split the data into two groups: a set to train the models and a set to test my model on after \n",
    "This allowed me to check if my model was decently accurate, since it is important to test the models on data it has never\n",
    "seen before.\n",
    "\n",
    "Now I trained the models using the first data set\n",
    "\n",
    "Just to see which one was more reliable/accurate, I created a box and whisker plot. \n",
    "We can see that while logistic regression is decently accurate, the KNN model was very accurate\n",
    "\n",
    "Then I tested the models on the second set of data that I saved earlier\n",
    "Results: Logistic regression model was around 80% accurate and the KNN model was around 90% accurate."
   ]
  },
  {
   "cell_type": "markdown",
   "metadata": {},
   "source": [
    "# Dataset 3"
   ]
  },
  {
   "cell_type": "code",
   "execution_count": 20,
   "metadata": {},
   "outputs": [
    {
     "data": {
      "text/html": [
       "<div>\n",
       "<style scoped>\n",
       "    .dataframe tbody tr th:only-of-type {\n",
       "        vertical-align: middle;\n",
       "    }\n",
       "\n",
       "    .dataframe tbody tr th {\n",
       "        vertical-align: top;\n",
       "    }\n",
       "\n",
       "    .dataframe thead th {\n",
       "        text-align: right;\n",
       "    }\n",
       "</style>\n",
       "<table border=\"1\" class=\"dataframe\">\n",
       "  <thead>\n",
       "    <tr style=\"text-align: right;\">\n",
       "      <th></th>\n",
       "      <th>X</th>\n",
       "      <th>Y</th>\n",
       "      <th>month</th>\n",
       "      <th>day</th>\n",
       "      <th>FFMC</th>\n",
       "      <th>DMC</th>\n",
       "      <th>DC</th>\n",
       "      <th>ISI</th>\n",
       "      <th>temp</th>\n",
       "      <th>RH</th>\n",
       "      <th>wind</th>\n",
       "      <th>rain</th>\n",
       "      <th>area</th>\n",
       "    </tr>\n",
       "  </thead>\n",
       "  <tbody>\n",
       "    <tr>\n",
       "      <th>0</th>\n",
       "      <td>7</td>\n",
       "      <td>5</td>\n",
       "      <td>mar</td>\n",
       "      <td>fri</td>\n",
       "      <td>86.2</td>\n",
       "      <td>26.2</td>\n",
       "      <td>94.3</td>\n",
       "      <td>5.1</td>\n",
       "      <td>8.2</td>\n",
       "      <td>51</td>\n",
       "      <td>6.7</td>\n",
       "      <td>0.0</td>\n",
       "      <td>0.0</td>\n",
       "    </tr>\n",
       "    <tr>\n",
       "      <th>1</th>\n",
       "      <td>7</td>\n",
       "      <td>4</td>\n",
       "      <td>oct</td>\n",
       "      <td>tue</td>\n",
       "      <td>90.6</td>\n",
       "      <td>35.4</td>\n",
       "      <td>669.1</td>\n",
       "      <td>6.7</td>\n",
       "      <td>18.0</td>\n",
       "      <td>33</td>\n",
       "      <td>0.9</td>\n",
       "      <td>0.0</td>\n",
       "      <td>0.0</td>\n",
       "    </tr>\n",
       "    <tr>\n",
       "      <th>2</th>\n",
       "      <td>7</td>\n",
       "      <td>4</td>\n",
       "      <td>oct</td>\n",
       "      <td>sat</td>\n",
       "      <td>90.6</td>\n",
       "      <td>43.7</td>\n",
       "      <td>686.9</td>\n",
       "      <td>6.7</td>\n",
       "      <td>14.6</td>\n",
       "      <td>33</td>\n",
       "      <td>1.3</td>\n",
       "      <td>0.0</td>\n",
       "      <td>0.0</td>\n",
       "    </tr>\n",
       "    <tr>\n",
       "      <th>3</th>\n",
       "      <td>8</td>\n",
       "      <td>6</td>\n",
       "      <td>mar</td>\n",
       "      <td>fri</td>\n",
       "      <td>91.7</td>\n",
       "      <td>33.3</td>\n",
       "      <td>77.5</td>\n",
       "      <td>9.0</td>\n",
       "      <td>8.3</td>\n",
       "      <td>97</td>\n",
       "      <td>4.0</td>\n",
       "      <td>0.2</td>\n",
       "      <td>0.0</td>\n",
       "    </tr>\n",
       "    <tr>\n",
       "      <th>4</th>\n",
       "      <td>8</td>\n",
       "      <td>6</td>\n",
       "      <td>mar</td>\n",
       "      <td>sun</td>\n",
       "      <td>89.3</td>\n",
       "      <td>51.3</td>\n",
       "      <td>102.2</td>\n",
       "      <td>9.6</td>\n",
       "      <td>11.4</td>\n",
       "      <td>99</td>\n",
       "      <td>1.8</td>\n",
       "      <td>0.0</td>\n",
       "      <td>0.0</td>\n",
       "    </tr>\n",
       "  </tbody>\n",
       "</table>\n",
       "</div>"
      ],
      "text/plain": [
       "   X  Y month  day  FFMC   DMC     DC  ISI  temp  RH  wind  rain  area\n",
       "0  7  5   mar  fri  86.2  26.2   94.3  5.1   8.2  51   6.7   0.0   0.0\n",
       "1  7  4   oct  tue  90.6  35.4  669.1  6.7  18.0  33   0.9   0.0   0.0\n",
       "2  7  4   oct  sat  90.6  43.7  686.9  6.7  14.6  33   1.3   0.0   0.0\n",
       "3  8  6   mar  fri  91.7  33.3   77.5  9.0   8.3  97   4.0   0.2   0.0\n",
       "4  8  6   mar  sun  89.3  51.3  102.2  9.6  11.4  99   1.8   0.0   0.0"
      ]
     },
     "execution_count": 20,
     "metadata": {},
     "output_type": "execute_result"
    }
   ],
   "source": [
    "#Import dataset forestfires.csv. \n",
    "df = pd.read_csv('forestfires.csv')\n",
    "\n",
    "#Shows the first 5 data points in the dataset\n",
    "df.head()\n",
    "\n",
    "## As we can see, we have a problem with \"month\" and \"day\" being categorical variables however, we need to clean this up and transform them into numerical variables. "
   ]
  },
  {
   "cell_type": "code",
   "execution_count": 21,
   "metadata": {},
   "outputs": [],
   "source": [
    "#Create a set of dummy variables from the month and day variable\n",
    "df = pd.get_dummies(df)"
   ]
  },
  {
   "cell_type": "code",
   "execution_count": 22,
   "metadata": {},
   "outputs": [
    {
     "data": {
      "text/plain": [
       "Index(['X', 'Y', 'FFMC', 'DMC', 'DC', 'ISI', 'temp', 'RH', 'wind', 'rain',\n",
       "       'area', 'month_apr', 'month_aug', 'month_dec', 'month_feb', 'month_jan',\n",
       "       'month_jul', 'month_jun', 'month_mar', 'month_may', 'month_nov',\n",
       "       'month_oct', 'month_sep', 'day_fri', 'day_mon', 'day_sat', 'day_sun',\n",
       "       'day_thu', 'day_tue', 'day_wed'],\n",
       "      dtype='object')"
      ]
     },
     "execution_count": 22,
     "metadata": {},
     "output_type": "execute_result"
    }
   ],
   "source": [
    "#Check columns of the data\n",
    "df.columns"
   ]
  },
  {
   "cell_type": "code",
   "execution_count": 23,
   "metadata": {},
   "outputs": [],
   "source": [
    "#Drop one column of month and day, in order to avoid multicollinearity\n",
    "df.drop(labels=['month_nov', 'day_sat'], axis=1, inplace=True)"
   ]
  },
  {
   "cell_type": "code",
   "execution_count": 24,
   "metadata": {},
   "outputs": [
    {
     "data": {
      "text/plain": [
       "X               8.00\n",
       "Y               7.00\n",
       "FFMC           77.50\n",
       "DMC           290.20\n",
       "DC            852.70\n",
       "ISI            56.10\n",
       "temp           31.10\n",
       "RH             85.00\n",
       "wind            9.00\n",
       "rain            6.40\n",
       "area         1090.84\n",
       "month_apr       1.00\n",
       "month_aug       1.00\n",
       "month_dec       1.00\n",
       "month_feb       1.00\n",
       "month_jan       1.00\n",
       "month_jul       1.00\n",
       "month_jun       1.00\n",
       "month_mar       1.00\n",
       "month_may       1.00\n",
       "month_oct       1.00\n",
       "month_sep       1.00\n",
       "day_fri         1.00\n",
       "day_mon         1.00\n",
       "day_sun         1.00\n",
       "day_thu         1.00\n",
       "day_tue         1.00\n",
       "day_wed         1.00\n",
       "dtype: float64"
      ]
     },
     "execution_count": 24,
     "metadata": {},
     "output_type": "execute_result"
    }
   ],
   "source": [
    "#Check the range of values of each column\n",
    "df.max()-df.min()"
   ]
  },
  {
   "cell_type": "code",
   "execution_count": 25,
   "metadata": {},
   "outputs": [
    {
     "data": {
      "text/plain": [
       "LinearRegression(copy_X=True, fit_intercept=True, n_jobs=1, normalize=False)"
      ]
     },
     "execution_count": 25,
     "metadata": {},
     "output_type": "execute_result"
    }
   ],
   "source": [
    "#:: Linear Regression ::\n",
    "#Import LinearRegression package\n",
    "from sklearn.linear_model import LinearRegression\n",
    "\n",
    "#Copy df into data and establish the target as 'area'\n",
    "data = df.copy()\n",
    "target = data.pop('area')\n",
    "\n",
    "#LR = data and target\n",
    "lr = LinearRegression(fit_intercept=True)\n",
    "lr.fit(data, target)"
   ]
  },
  {
   "cell_type": "code",
   "execution_count": 26,
   "metadata": {},
   "outputs": [
    {
     "name": "stdout",
     "output_type": "stream",
     "text": [
      "0.04578209650808518\n",
      "62.12143311792724\n"
     ]
    }
   ],
   "source": [
    "#Import MSE package \n",
    "#Look at R^2 and Root Mean Squared Error (RMSE)\n",
    "from sklearn.metrics import mean_squared_error\n",
    "print(lr.score(data, target))\n",
    "predictions = lr.predict(data)\n",
    "mse = mean_squared_error(target, predictions)\n",
    "rmse = np.sqrt(mse)\n",
    "print(rmse)\n",
    "\n",
    "\n",
    "## R^2 = 0.04578 is very small; RMSE = 62.12 is large"
   ]
  },
  {
   "cell_type": "code",
   "execution_count": 27,
   "metadata": {},
   "outputs": [
    {
     "name": "stdout",
     "output_type": "stream",
     "text": [
      "\n",
      "                            OLS Regression Results                            \n",
      "==============================================================================\n",
      "Dep. Variable:                   area   R-squared:                       0.004\n",
      "Model:                            OLS   Adj. R-squared:                  0.002\n",
      "Method:                 Least Squares   F-statistic:                     2.077\n",
      "Date:                Sat, 28 Apr 2018   Prob (F-statistic):              0.150\n",
      "Time:                        23:29:24   Log-Likelihood:                -2879.4\n",
      "No. Observations:                 517   AIC:                             5763.\n",
      "Df Residuals:                     515   BIC:                             5771.\n",
      "Df Model:                           1                                         \n",
      "Covariance Type:            nonrobust                                         \n",
      "==============================================================================\n",
      "                 coef    std err          t      P>|t|      [0.025      0.975]\n",
      "------------------------------------------------------------------------------\n",
      "Intercept      4.7049      6.304      0.746      0.456      -7.679      17.089\n",
      "X              1.7438      1.210      1.441      0.150      -0.633       4.121\n",
      "==============================================================================\n",
      "Omnibus:                      981.662   Durbin-Watson:                   1.653\n",
      "Prob(Omnibus):                  0.000   Jarque-Bera (JB):           802838.467\n",
      "Skew:                          12.752   Prob(JB):                         0.00\n",
      "Kurtosis:                     194.360   Cond. No.                         12.1\n",
      "==============================================================================\n",
      "\n",
      "Warnings:\n",
      "[1] Standard Errors assume that the covariance matrix of the errors is correctly specified.\n",
      "\n",
      "\n",
      "                            OLS Regression Results                            \n",
      "==============================================================================\n",
      "Dep. Variable:                   area   R-squared:                       0.002\n",
      "Model:                            OLS   Adj. R-squared:                  0.000\n",
      "Method:                 Least Squares   F-statistic:                     1.039\n",
      "Date:                Sat, 28 Apr 2018   Prob (F-statistic):              0.309\n",
      "Time:                        23:29:24   Log-Likelihood:                -2879.9\n",
      "No. Observations:                 517   AIC:                             5764.\n",
      "Df Residuals:                     515   BIC:                             5772.\n",
      "Df Model:                           1                                         \n",
      "Covariance Type:            nonrobust                                         \n",
      "==============================================================================\n",
      "                 coef    std err          t      P>|t|      [0.025      0.975]\n",
      "------------------------------------------------------------------------------\n",
      "Intercept      2.8610     10.189      0.281      0.779     -17.156      22.878\n",
      "Y              2.3225      2.278      1.019      0.309      -2.154       6.799\n",
      "==============================================================================\n",
      "Omnibus:                      981.970   Durbin-Watson:                   1.645\n",
      "Prob(Omnibus):                  0.000   Jarque-Bera (JB):           802937.403\n",
      "Skew:                          12.761   Prob(JB):                         0.00\n",
      "Kurtosis:                     194.369   Cond. No.                         17.0\n",
      "==============================================================================\n",
      "\n",
      "Warnings:\n",
      "[1] Standard Errors assume that the covariance matrix of the errors is correctly specified.\n",
      "\n",
      "\n",
      "                            OLS Regression Results                            \n",
      "==============================================================================\n",
      "Dep. Variable:                   area   R-squared:                       0.002\n",
      "Model:                            OLS   Adj. R-squared:                 -0.000\n",
      "Method:                 Least Squares   F-statistic:                    0.8304\n",
      "Date:                Sat, 28 Apr 2018   Prob (F-statistic):              0.363\n",
      "Time:                        23:29:24   Log-Likelihood:                -2880.0\n",
      "No. Observations:                 517   AIC:                             5764.\n",
      "Df Residuals:                     515   BIC:                             5773.\n",
      "Df Model:                           1                                         \n",
      "Covariance Type:            nonrobust                                         \n",
      "==============================================================================\n",
      "                 coef    std err          t      P>|t|      [0.025      0.975]\n",
      "------------------------------------------------------------------------------\n",
      "Intercept    -29.0914     46.109     -0.631      0.528    -119.675      61.493\n",
      "FFMC           0.4627      0.508      0.911      0.363      -0.535       1.460\n",
      "==============================================================================\n",
      "Omnibus:                      983.137   Durbin-Watson:                   1.649\n",
      "Prob(Omnibus):                  0.000   Jarque-Bera (JB):           808340.065\n",
      "Skew:                          12.793   Prob(JB):                         0.00\n",
      "Kurtosis:                     195.015   Cond. No.                     1.50e+03\n",
      "==============================================================================\n",
      "\n",
      "Warnings:\n",
      "[1] Standard Errors assume that the covariance matrix of the errors is correctly specified.\n",
      "[2] The condition number is large, 1.5e+03. This might indicate that there are\n",
      "strong multicollinearity or other numerical problems.\n",
      "\n",
      "\n",
      "                            OLS Regression Results                            \n",
      "==============================================================================\n",
      "Dep. Variable:                   area   R-squared:                       0.005\n",
      "Model:                            OLS   Adj. R-squared:                  0.003\n",
      "Method:                 Least Squares   F-statistic:                     2.759\n",
      "Date:                Sat, 28 Apr 2018   Prob (F-statistic):             0.0973\n",
      "Time:                        23:29:24   Log-Likelihood:                -2879.1\n",
      "No. Observations:                 517   AIC:                             5762.\n",
      "Df Residuals:                     515   BIC:                             5771.\n",
      "Df Model:                           1                                         \n",
      "Covariance Type:            nonrobust                                         \n",
      "==============================================================================\n",
      "                 coef    std err          t      P>|t|      [0.025      0.975]\n",
      "------------------------------------------------------------------------------\n",
      "Intercept      4.8036      5.591      0.859      0.391      -6.181      15.788\n",
      "DMC            0.0725      0.044      1.661      0.097      -0.013       0.158\n",
      "==============================================================================\n",
      "Omnibus:                      982.803   Durbin-Watson:                   1.649\n",
      "Prob(Omnibus):                  0.000   Jarque-Bera (JB):           811231.935\n",
      "Skew:                          12.780   Prob(JB):                         0.00\n",
      "Kurtosis:                     195.368   Cond. No.                         256.\n",
      "==============================================================================\n",
      "\n",
      "Warnings:\n",
      "[1] Standard Errors assume that the covariance matrix of the errors is correctly specified.\n",
      "\n",
      "\n",
      "                            OLS Regression Results                            \n",
      "==============================================================================\n",
      "Dep. Variable:                   area   R-squared:                       0.002\n",
      "Model:                            OLS   Adj. R-squared:                  0.001\n",
      "Method:                 Least Squares   F-statistic:                     1.259\n",
      "Date:                Sat, 28 Apr 2018   Prob (F-statistic):              0.262\n",
      "Time:                        23:29:25   Log-Likelihood:                -2879.8\n",
      "No. Observations:                 517   AIC:                             5764.\n",
      "Df Residuals:                     515   BIC:                             5772.\n",
      "Df Model:                           1                                         \n",
      "Covariance Type:            nonrobust                                         \n",
      "==============================================================================\n",
      "                 coef    std err          t      P>|t|      [0.025      0.975]\n",
      "------------------------------------------------------------------------------\n",
      "Intercept      5.9037      6.792      0.869      0.385      -7.439      19.247\n",
      "DC             0.0127      0.011      1.122      0.262      -0.010       0.035\n",
      "==============================================================================\n",
      "Omnibus:                      982.892   Durbin-Watson:                   1.645\n",
      "Prob(Omnibus):                  0.000   Jarque-Bera (JB):           807312.305\n",
      "Skew:                          12.786   Prob(JB):                         0.00\n",
      "Kurtosis:                     194.893   Cond. No.                     1.46e+03\n",
      "==============================================================================\n",
      "\n",
      "Warnings:\n",
      "[1] Standard Errors assume that the covariance matrix of the errors is correctly specified.\n",
      "[2] The condition number is large, 1.46e+03. This might indicate that there are\n",
      "strong multicollinearity or other numerical problems.\n",
      "\n",
      "\n",
      "                            OLS Regression Results                            \n",
      "==============================================================================\n",
      "Dep. Variable:                   area   R-squared:                       0.000\n",
      "Model:                            OLS   Adj. R-squared:                 -0.002\n",
      "Method:                 Least Squares   F-statistic:                   0.03512\n",
      "Date:                Sat, 28 Apr 2018   Prob (F-statistic):              0.851\n",
      "Time:                        23:29:25   Log-Likelihood:                -2880.4\n",
      "No. Observations:                 517   AIC:                             5765.\n",
      "Df Residuals:                     515   BIC:                             5773.\n",
      "Df Model:                           1                                         \n",
      "Covariance Type:            nonrobust                                         \n",
      "==============================================================================\n",
      "                 coef    std err          t      P>|t|      [0.025      0.975]\n",
      "------------------------------------------------------------------------------\n",
      "Intercept     11.8072      6.217      1.899      0.058      -0.407      24.022\n",
      "ISI            0.1153      0.615      0.187      0.851      -1.093       1.324\n",
      "==============================================================================\n",
      "Omnibus:                      983.625   Durbin-Watson:                   1.649\n",
      "Prob(Omnibus):                  0.000   Jarque-Bera (JB):           809992.277\n",
      "Skew:                          12.806   Prob(JB):                         0.00\n",
      "Kurtosis:                     195.211   Cond. No.                         22.6\n",
      "==============================================================================\n",
      "\n",
      "Warnings:\n",
      "[1] Standard Errors assume that the covariance matrix of the errors is correctly specified.\n",
      "\n",
      "\n",
      "                            OLS Regression Results                            \n",
      "==============================================================================\n",
      "Dep. Variable:                   area   R-squared:                       0.010\n",
      "Model:                            OLS   Adj. R-squared:                  0.008\n",
      "Method:                 Least Squares   F-statistic:                     4.978\n",
      "Date:                Sat, 28 Apr 2018   Prob (F-statistic):             0.0261\n",
      "Time:                        23:29:25   Log-Likelihood:                -2878.0\n",
      "No. Observations:                 517   AIC:                             5760.\n",
      "Df Residuals:                     515   BIC:                             5768.\n",
      "Df Model:                           1                                         \n",
      "Covariance Type:            nonrobust                                         \n",
      "==============================================================================\n",
      "                 coef    std err          t      P>|t|      [0.025      0.975]\n",
      "------------------------------------------------------------------------------\n",
      "Intercept     -7.4138      9.500     -0.780      0.435     -26.077      11.249\n",
      "temp           1.0726      0.481      2.231      0.026       0.128       2.017\n",
      "==============================================================================\n",
      "Omnibus:                      979.270   Durbin-Watson:                   1.650\n",
      "Prob(Omnibus):                  0.000   Jarque-Bera (JB):           793772.021\n",
      "Skew:                          12.687   Prob(JB):                         0.00\n",
      "Kurtosis:                     193.275   Cond. No.                         67.5\n",
      "==============================================================================\n",
      "\n",
      "Warnings:\n",
      "[1] Standard Errors assume that the covariance matrix of the errors is correctly specified.\n",
      "\n",
      "\n",
      "                            OLS Regression Results                            \n",
      "==============================================================================\n",
      "Dep. Variable:                   area   R-squared:                       0.006\n",
      "Model:                            OLS   Adj. R-squared:                  0.004\n",
      "Method:                 Least Squares   F-statistic:                     2.954\n",
      "Date:                Sat, 28 Apr 2018   Prob (F-statistic):             0.0863\n",
      "Time:                        23:29:25   Log-Likelihood:                -2879.0\n",
      "No. Observations:                 517   AIC:                             5762.\n",
      "Df Residuals:                     515   BIC:                             5770.\n",
      "Df Model:                           1                                         \n",
      "Covariance Type:            nonrobust                                         \n",
      "==============================================================================\n",
      "                 coef    std err          t      P>|t|      [0.025      0.975]\n",
      "------------------------------------------------------------------------------\n",
      "Intercept     25.8948      8.089      3.201      0.001      10.002      41.787\n",
      "RH            -0.2946      0.171     -1.719      0.086      -0.631       0.042\n",
      "==============================================================================\n",
      "Omnibus:                      980.422   Durbin-Watson:                   1.642\n",
      "Prob(Omnibus):                  0.000   Jarque-Bera (JB):           795947.965\n",
      "Skew:                          12.720   Prob(JB):                         0.00\n",
      "Kurtosis:                     193.531   Cond. No.                         137.\n",
      "==============================================================================\n",
      "\n",
      "Warnings:\n",
      "[1] Standard Errors assume that the covariance matrix of the errors is correctly specified.\n",
      "\n",
      "\n",
      "                            OLS Regression Results                            \n",
      "==============================================================================\n",
      "Dep. Variable:                   area   R-squared:                       0.000\n",
      "Model:                            OLS   Adj. R-squared:                 -0.002\n",
      "Method:                 Least Squares   F-statistic:                   0.07815\n",
      "Date:                Sat, 28 Apr 2018   Prob (F-statistic):              0.780\n",
      "Time:                        23:29:25   Log-Likelihood:                -2880.4\n",
      "No. Observations:                 517   AIC:                             5765.\n",
      "Df Residuals:                     515   BIC:                             5773.\n",
      "Df Model:                           1                                         \n",
      "Covariance Type:            nonrobust                                         \n",
      "==============================================================================\n",
      "                 coef    std err          t      P>|t|      [0.025      0.975]\n",
      "------------------------------------------------------------------------------\n",
      "Intercept     11.0891      6.885      1.611      0.108      -2.438      24.616\n",
      "wind           0.4376      1.565      0.280      0.780      -2.638       3.513\n",
      "==============================================================================\n",
      "Omnibus:                      983.721   Durbin-Watson:                   1.647\n",
      "Prob(Omnibus):                  0.000   Jarque-Bera (JB):           810324.708\n",
      "Skew:                          12.809   Prob(JB):                         0.00\n",
      "Kurtosis:                     195.251   Cond. No.                         11.3\n",
      "==============================================================================\n",
      "\n",
      "Warnings:\n",
      "[1] Standard Errors assume that the covariance matrix of the errors is correctly specified.\n",
      "\n",
      "\n",
      "                            OLS Regression Results                            \n",
      "==============================================================================\n",
      "Dep. Variable:                   area   R-squared:                       0.000\n",
      "Model:                            OLS   Adj. R-squared:                 -0.002\n",
      "Method:                 Least Squares   F-statistic:                   0.02794\n",
      "Date:                Sat, 28 Apr 2018   Prob (F-statistic):              0.867\n",
      "Time:                        23:29:25   Log-Likelihood:                -2880.4\n",
      "No. Observations:                 517   AIC:                             5765.\n",
      "Df Residuals:                     515   BIC:                             5773.\n",
      "Df Model:                           1                                         \n",
      "Covariance Type:            nonrobust                                         \n",
      "==============================================================================\n",
      "                 coef    std err          t      P>|t|      [0.025      0.975]\n",
      "------------------------------------------------------------------------------\n",
      "Intercept     12.8816      2.810      4.585      0.000       7.362      18.402\n",
      "rain          -1.5842      9.477     -0.167      0.867     -20.203      17.035\n",
      "==============================================================================\n",
      "Omnibus:                      983.726   Durbin-Watson:                   1.649\n",
      "Prob(Omnibus):                  0.000   Jarque-Bera (JB):           810320.385\n",
      "Skew:                          12.809   Prob(JB):                         0.00\n",
      "Kurtosis:                     195.250   Cond. No.                         3.38\n",
      "==============================================================================\n",
      "\n",
      "Warnings:\n",
      "[1] Standard Errors assume that the covariance matrix of the errors is correctly specified.\n",
      "\n",
      "\n",
      "                            OLS Regression Results                            \n",
      "==============================================================================\n",
      "Dep. Variable:                   area   R-squared:                       1.000\n",
      "Model:                            OLS   Adj. R-squared:                  1.000\n",
      "Method:                 Least Squares   F-statistic:                 6.731e+35\n",
      "Date:                Sat, 28 Apr 2018   Prob (F-statistic):               0.00\n",
      "Time:                        23:29:25   Log-Likelihood:                 16831.\n",
      "No. Observations:                 517   AIC:                        -3.366e+04\n",
      "Df Residuals:                     515   BIC:                        -3.365e+04\n",
      "Df Model:                           1                                         \n",
      "Covariance Type:            nonrobust                                         \n",
      "==============================================================================\n",
      "                 coef    std err          t      P>|t|      [0.025      0.975]\n",
      "------------------------------------------------------------------------------\n",
      "Intercept   1.776e-15   7.91e-17     22.463      0.000    1.62e-15    1.93e-15\n",
      "area           1.0000   1.22e-18    8.2e+17      0.000       1.000       1.000\n",
      "==============================================================================\n",
      "Omnibus:                      129.195   Durbin-Watson:                   0.178\n",
      "Prob(Omnibus):                  0.000   Jarque-Bera (JB):              511.065\n",
      "Skew:                           1.079   Prob(JB):                    1.06e-111\n",
      "Kurtosis:                       7.366   Cond. No.                         66.2\n",
      "==============================================================================\n",
      "\n",
      "Warnings:\n",
      "[1] Standard Errors assume that the covariance matrix of the errors is correctly specified.\n",
      "\n",
      "\n",
      "                            OLS Regression Results                            \n",
      "==============================================================================\n",
      "Dep. Variable:                   area   R-squared:                       0.000\n",
      "Model:                            OLS   Adj. R-squared:                 -0.002\n",
      "Method:                 Least Squares   F-statistic:                   0.03531\n",
      "Date:                Sat, 28 Apr 2018   Prob (F-statistic):              0.851\n",
      "Time:                        23:29:25   Log-Likelihood:                -2880.4\n",
      "No. Observations:                 517   AIC:                             5765.\n",
      "Df Residuals:                     515   BIC:                             5773.\n",
      "Df Model:                           1                                         \n",
      "Covariance Type:            nonrobust                                         \n",
      "==============================================================================\n",
      "                 coef    std err          t      P>|t|      [0.025      0.975]\n",
      "------------------------------------------------------------------------------\n",
      "Intercept     12.9174      2.827      4.569      0.000       7.364      18.471\n",
      "month_apr     -4.0263     21.426     -0.188      0.851     -46.119      38.066\n",
      "==============================================================================\n",
      "Omnibus:                      983.684   Durbin-Watson:                   1.645\n",
      "Prob(Omnibus):                  0.000   Jarque-Bera (JB):           810127.385\n",
      "Skew:                          12.808   Prob(JB):                         0.00\n",
      "Kurtosis:                     195.227   Cond. No.                         7.65\n",
      "==============================================================================\n",
      "\n",
      "Warnings:\n",
      "[1] Standard Errors assume that the covariance matrix of the errors is correctly specified.\n",
      "\n",
      "\n",
      "                            OLS Regression Results                            \n",
      "==============================================================================\n",
      "Dep. Variable:                   area   R-squared:                       0.000\n",
      "Model:                            OLS   Adj. R-squared:                 -0.002\n",
      "Method:                 Least Squares   F-statistic:                  0.009029\n",
      "Date:                Sat, 28 Apr 2018   Prob (F-statistic):              0.924\n",
      "Time:                        23:29:25   Log-Likelihood:                -2880.4\n",
      "No. Observations:                 517   AIC:                             5765.\n",
      "Df Residuals:                     515   BIC:                             5773.\n",
      "Df Model:                           1                                         \n",
      "Covariance Type:            nonrobust                                         \n",
      "==============================================================================\n",
      "                 coef    std err          t      P>|t|      [0.025      0.975]\n",
      "------------------------------------------------------------------------------\n",
      "Intercept     13.0452      3.492      3.736      0.000       6.186      19.905\n",
      "month_aug     -0.5561      5.853     -0.095      0.924     -12.055      10.942\n",
      "==============================================================================\n",
      "Omnibus:                      983.716   Durbin-Watson:                   1.650\n",
      "Prob(Omnibus):                  0.000   Jarque-Bera (JB):           810005.500\n",
      "Skew:                          12.809   Prob(JB):                         0.00\n",
      "Kurtosis:                     195.212   Cond. No.                         2.42\n",
      "==============================================================================\n",
      "\n",
      "Warnings:\n",
      "[1] Standard Errors assume that the covariance matrix of the errors is correctly specified.\n",
      "\n"
     ]
    },
    {
     "name": "stdout",
     "output_type": "stream",
     "text": [
      "\n",
      "                            OLS Regression Results                            \n",
      "==============================================================================\n",
      "Dep. Variable:                   area   R-squared:                       0.000\n",
      "Model:                            OLS   Adj. R-squared:                 -0.002\n",
      "Method:                 Least Squares   F-statistic:                 0.0005257\n",
      "Date:                Sat, 28 Apr 2018   Prob (F-statistic):              0.982\n",
      "Time:                        23:29:25   Log-Likelihood:                -2880.4\n",
      "No. Observations:                 517   AIC:                             5765.\n",
      "Df Residuals:                     515   BIC:                             5773.\n",
      "Df Model:                           1                                         \n",
      "Covariance Type:            nonrobust                                         \n",
      "==============================================================================\n",
      "                 coef    std err          t      P>|t|      [0.025      0.975]\n",
      "------------------------------------------------------------------------------\n",
      "Intercept     12.8387      2.827      4.541      0.000       7.285      18.393\n",
      "month_dec      0.4913     21.427      0.023      0.982     -41.603      42.585\n",
      "==============================================================================\n",
      "Omnibus:                      983.761   Durbin-Watson:                   1.649\n",
      "Prob(Omnibus):                  0.000   Jarque-Bera (JB):           810436.487\n",
      "Skew:                          12.810   Prob(JB):                         0.00\n",
      "Kurtosis:                     195.264   Cond. No.                         7.65\n",
      "==============================================================================\n",
      "\n",
      "Warnings:\n",
      "[1] Standard Errors assume that the covariance matrix of the errors is correctly specified.\n",
      "\n",
      "\n",
      "                            OLS Regression Results                            \n",
      "==============================================================================\n",
      "Dep. Variable:                   area   R-squared:                       0.000\n",
      "Model:                            OLS   Adj. R-squared:                 -0.002\n",
      "Method:                 Least Squares   F-statistic:                    0.2214\n",
      "Date:                Sat, 28 Apr 2018   Prob (F-statistic):              0.638\n",
      "Time:                        23:29:25   Log-Likelihood:                -2880.3\n",
      "No. Observations:                 517   AIC:                             5765.\n",
      "Df Residuals:                     515   BIC:                             5773.\n",
      "Df Model:                           1                                         \n",
      "Covariance Type:            nonrobust                                         \n",
      "==============================================================================\n",
      "                 coef    std err          t      P>|t|      [0.025      0.975]\n",
      "------------------------------------------------------------------------------\n",
      "Intercept     13.1118      2.858      4.589      0.000       7.498      18.726\n",
      "month_feb     -6.8368     14.528     -0.471      0.638     -35.379      21.705\n",
      "==============================================================================\n",
      "Omnibus:                      983.614   Durbin-Watson:                   1.651\n",
      "Prob(Omnibus):                  0.000   Jarque-Bera (JB):           809994.231\n",
      "Skew:                          12.806   Prob(JB):                         0.00\n",
      "Kurtosis:                     195.212   Cond. No.                         5.19\n",
      "==============================================================================\n",
      "\n",
      "Warnings:\n",
      "[1] Standard Errors assume that the covariance matrix of the errors is correctly specified.\n",
      "\n",
      "\n",
      "                            OLS Regression Results                            \n",
      "==============================================================================\n",
      "Dep. Variable:                   area   R-squared:                       0.000\n",
      "Model:                            OLS   Adj. R-squared:                 -0.002\n",
      "Method:                 Least Squares   F-statistic:                   0.08164\n",
      "Date:                Sat, 28 Apr 2018   Prob (F-statistic):              0.775\n",
      "Time:                        23:29:25   Log-Likelihood:                -2880.4\n",
      "No. Observations:                 517   AIC:                             5765.\n",
      "Df Residuals:                     515   BIC:                             5773.\n",
      "Df Model:                           1                                         \n",
      "Covariance Type:            nonrobust                                         \n",
      "==============================================================================\n",
      "                 coef    std err          t      P>|t|      [0.025      0.975]\n",
      "------------------------------------------------------------------------------\n",
      "Intercept     12.8972      2.808      4.594      0.000       7.382      18.413\n",
      "month_jan    -12.8972     45.139     -0.286      0.775    -101.576      75.782\n",
      "==============================================================================\n",
      "Omnibus:                      983.774   Durbin-Watson:                   1.650\n",
      "Prob(Omnibus):                  0.000   Jarque-Bera (JB):           810556.489\n",
      "Skew:                          12.810   Prob(JB):                         0.00\n",
      "Kurtosis:                     195.278   Cond. No.                         16.1\n",
      "==============================================================================\n",
      "\n",
      "Warnings:\n",
      "[1] Standard Errors assume that the covariance matrix of the errors is correctly specified.\n",
      "\n",
      "\n",
      "                            OLS Regression Results                            \n",
      "==============================================================================\n",
      "Dep. Variable:                   area   R-squared:                       0.000\n",
      "Model:                            OLS   Adj. R-squared:                 -0.002\n",
      "Method:                 Least Squares   F-statistic:                   0.01947\n",
      "Date:                Sat, 28 Apr 2018   Prob (F-statistic):              0.889\n",
      "Time:                        23:29:25   Log-Likelihood:                -2880.4\n",
      "No. Observations:                 517   AIC:                             5765.\n",
      "Df Residuals:                     515   BIC:                             5773.\n",
      "Df Model:                           1                                         \n",
      "Covariance Type:            nonrobust                                         \n",
      "==============================================================================\n",
      "                 coef    std err          t      P>|t|      [0.025      0.975]\n",
      "------------------------------------------------------------------------------\n",
      "Intercept     12.7468      2.893      4.406      0.000       7.063      18.431\n",
      "month_jul      1.6228     11.629      0.140      0.889     -21.224      24.469\n",
      "==============================================================================\n",
      "Omnibus:                      983.846   Durbin-Watson:                   1.651\n",
      "Prob(Omnibus):                  0.000   Jarque-Bera (JB):           811053.241\n",
      "Skew:                          12.812   Prob(JB):                         0.00\n",
      "Kurtosis:                     195.338   Cond. No.                         4.17\n",
      "==============================================================================\n",
      "\n",
      "Warnings:\n",
      "[1] Standard Errors assume that the covariance matrix of the errors is correctly specified.\n",
      "\n",
      "\n",
      "                            OLS Regression Results                            \n",
      "==============================================================================\n",
      "Dep. Variable:                   area   R-squared:                       0.000\n",
      "Model:                            OLS   Adj. R-squared:                 -0.002\n",
      "Method:                 Least Squares   F-statistic:                    0.2126\n",
      "Date:                Sat, 28 Apr 2018   Prob (F-statistic):              0.645\n",
      "Time:                        23:29:25   Log-Likelihood:                -2880.3\n",
      "No. Observations:                 517   AIC:                             5765.\n",
      "Df Residuals:                     515   BIC:                             5773.\n",
      "Df Model:                           1                                         \n",
      "Covariance Type:            nonrobust                                         \n",
      "==============================================================================\n",
      "                 coef    std err          t      P>|t|      [0.025      0.975]\n",
      "------------------------------------------------------------------------------\n",
      "Intercept     13.0855      2.849      4.593      0.000       7.489      18.682\n",
      "month_jun     -7.2443     15.711     -0.461      0.645     -38.110      23.621\n",
      "==============================================================================\n",
      "Omnibus:                      983.657   Durbin-Watson:                   1.650\n",
      "Prob(Omnibus):                  0.000   Jarque-Bera (JB):           810121.056\n",
      "Skew:                          12.807   Prob(JB):                         0.00\n",
      "Kurtosis:                     195.227   Cond. No.                         5.61\n",
      "==============================================================================\n",
      "\n",
      "Warnings:\n",
      "[1] Standard Errors assume that the covariance matrix of the errors is correctly specified.\n",
      "\n",
      "\n",
      "                            OLS Regression Results                            \n",
      "==============================================================================\n",
      "Dep. Variable:                   area   R-squared:                       0.002\n",
      "Model:                            OLS   Adj. R-squared:                  0.000\n",
      "Method:                 Least Squares   F-statistic:                     1.073\n",
      "Date:                Sat, 28 Apr 2018   Prob (F-statistic):              0.301\n",
      "Time:                        23:29:25   Log-Likelihood:                -2879.9\n",
      "No. Observations:                 517   AIC:                             5764.\n",
      "Df Residuals:                     515   BIC:                             5772.\n",
      "Df Model:                           1                                         \n",
      "Covariance Type:            nonrobust                                         \n",
      "==============================================================================\n",
      "                 coef    std err          t      P>|t|      [0.025      0.975]\n",
      "------------------------------------------------------------------------------\n",
      "Intercept     13.8376      2.958      4.678      0.000       8.026      19.649\n",
      "month_mar     -9.4809      9.153     -1.036      0.301     -27.463       8.501\n",
      "==============================================================================\n",
      "Omnibus:                      983.567   Durbin-Watson:                   1.653\n",
      "Prob(Omnibus):                  0.000   Jarque-Bera (JB):           810485.401\n",
      "Skew:                          12.804   Prob(JB):                         0.00\n",
      "Kurtosis:                     195.271   Cond. No.                         3.31\n",
      "==============================================================================\n",
      "\n",
      "Warnings:\n",
      "[1] Standard Errors assume that the covariance matrix of the errors is correctly specified.\n",
      "\n",
      "\n",
      "                            OLS Regression Results                            \n",
      "==============================================================================\n",
      "Dep. Variable:                   area   R-squared:                       0.000\n",
      "Model:                            OLS   Adj. R-squared:                 -0.002\n",
      "Method:                 Least Squares   F-statistic:                   0.02021\n",
      "Date:                Sat, 28 Apr 2018   Prob (F-statistic):              0.887\n",
      "Time:                        23:29:25   Log-Likelihood:                -2880.4\n",
      "No. Observations:                 517   AIC:                             5765.\n",
      "Df Residuals:                     515   BIC:                             5773.\n",
      "Df Model:                           1                                         \n",
      "Covariance Type:            nonrobust                                         \n",
      "==============================================================================\n",
      "                 coef    std err          t      P>|t|      [0.025      0.975]\n",
      "------------------------------------------------------------------------------\n",
      "Intercept     12.8225      2.808      4.567      0.000       7.307      18.338\n",
      "month_may      6.4175     45.142      0.142      0.887     -82.267      95.102\n",
      "==============================================================================\n",
      "Omnibus:                      983.813   Durbin-Watson:                   1.649\n",
      "Prob(Omnibus):                  0.000   Jarque-Bera (JB):           810671.684\n",
      "Skew:                          12.811   Prob(JB):                         0.00\n",
      "Kurtosis:                     195.292   Cond. No.                         16.1\n",
      "==============================================================================\n",
      "\n",
      "Warnings:\n",
      "[1] Standard Errors assume that the covariance matrix of the errors is correctly specified.\n",
      "\n"
     ]
    },
    {
     "name": "stdout",
     "output_type": "stream",
     "text": [
      "\n",
      "                            OLS Regression Results                            \n",
      "==============================================================================\n",
      "Dep. Variable:                   area   R-squared:                       0.000\n",
      "Model:                            OLS   Adj. R-squared:                 -0.002\n",
      "Method:                 Least Squares   F-statistic:                    0.1467\n",
      "Date:                Sat, 28 Apr 2018   Prob (F-statistic):              0.702\n",
      "Time:                        23:29:25   Log-Likelihood:                -2880.4\n",
      "No. Observations:                 517   AIC:                             5765.\n",
      "Df Residuals:                     515   BIC:                             5773.\n",
      "Df Model:                           1                                         \n",
      "Covariance Type:            nonrobust                                         \n",
      "==============================================================================\n",
      "                 coef    std err          t      P>|t|      [0.025      0.975]\n",
      "------------------------------------------------------------------------------\n",
      "Intercept     13.0328      2.843      4.583      0.000       7.447      18.619\n",
      "month_oct     -6.3948     16.693     -0.383      0.702     -39.190      26.401\n",
      "==============================================================================\n",
      "Omnibus:                      983.643   Durbin-Watson:                   1.650\n",
      "Prob(Omnibus):                  0.000   Jarque-Bera (JB):           810053.570\n",
      "Skew:                          12.807   Prob(JB):                         0.00\n",
      "Kurtosis:                     195.219   Cond. No.                         5.96\n",
      "==============================================================================\n",
      "\n",
      "Warnings:\n",
      "[1] Standard Errors assume that the covariance matrix of the errors is correctly specified.\n",
      "\n",
      "\n",
      "                            OLS Regression Results                            \n",
      "==============================================================================\n",
      "Dep. Variable:                   area   R-squared:                       0.003\n",
      "Model:                            OLS   Adj. R-squared:                  0.001\n",
      "Method:                 Least Squares   F-statistic:                     1.654\n",
      "Date:                Sat, 28 Apr 2018   Prob (F-statistic):              0.199\n",
      "Time:                        23:29:25   Log-Likelihood:                -2879.6\n",
      "No. Observations:                 517   AIC:                             5763.\n",
      "Df Residuals:                     515   BIC:                             5772.\n",
      "Df Model:                           1                                         \n",
      "Covariance Type:            nonrobust                                         \n",
      "==============================================================================\n",
      "                 coef    std err          t      P>|t|      [0.025      0.975]\n",
      "------------------------------------------------------------------------------\n",
      "Intercept     10.3070      3.425      3.009      0.003       3.578      17.036\n",
      "month_sep      7.6356      5.938      1.286      0.199      -4.030      19.301\n",
      "==============================================================================\n",
      "Omnibus:                      981.964   Durbin-Watson:                   1.649\n",
      "Prob(Omnibus):                  0.000   Jarque-Bera (JB):           799672.828\n",
      "Skew:                          12.764   Prob(JB):                         0.00\n",
      "Kurtosis:                     193.972   Cond. No.                         2.41\n",
      "==============================================================================\n",
      "\n",
      "Warnings:\n",
      "[1] Standard Errors assume that the covariance matrix of the errors is correctly specified.\n",
      "\n",
      "\n",
      "                            OLS Regression Results                            \n",
      "==============================================================================\n",
      "Dep. Variable:                   area   R-squared:                       0.003\n",
      "Model:                            OLS   Adj. R-squared:                  0.001\n",
      "Method:                 Least Squares   F-statistic:                     1.446\n",
      "Date:                Sat, 28 Apr 2018   Prob (F-statistic):              0.230\n",
      "Time:                        23:29:25   Log-Likelihood:                -2879.7\n",
      "No. Observations:                 517   AIC:                             5763.\n",
      "Df Residuals:                     515   BIC:                             5772.\n",
      "Df Model:                           1                                         \n",
      "Covariance Type:            nonrobust                                         \n",
      "==============================================================================\n",
      "                 coef    std err          t      P>|t|      [0.025      0.975]\n",
      "------------------------------------------------------------------------------\n",
      "Intercept     14.3398      3.061      4.684      0.000       8.326      20.354\n",
      "day_fri       -9.0782      7.550     -1.202      0.230     -23.911       5.754\n",
      "==============================================================================\n",
      "Omnibus:                      983.245   Durbin-Watson:                   1.658\n",
      "Prob(Omnibus):                  0.000   Jarque-Bera (JB):           809450.017\n",
      "Skew:                          12.795   Prob(JB):                         0.00\n",
      "Kurtosis:                     195.149   Cond. No.                         2.78\n",
      "==============================================================================\n",
      "\n",
      "Warnings:\n",
      "[1] Standard Errors assume that the covariance matrix of the errors is correctly specified.\n",
      "\n",
      "\n",
      "                            OLS Regression Results                            \n",
      "==============================================================================\n",
      "Dep. Variable:                   area   R-squared:                       0.000\n",
      "Model:                            OLS   Adj. R-squared:                 -0.001\n",
      "Method:                 Least Squares   F-statistic:                    0.2317\n",
      "Date:                Sat, 28 Apr 2018   Prob (F-statistic):              0.630\n",
      "Time:                        23:29:25   Log-Likelihood:                -2880.3\n",
      "No. Observations:                 517   AIC:                             5765.\n",
      "Df Residuals:                     515   BIC:                             5773.\n",
      "Df Model:                           1                                         \n",
      "Covariance Type:            nonrobust                                         \n",
      "==============================================================================\n",
      "                 coef    std err          t      P>|t|      [0.025      0.975]\n",
      "------------------------------------------------------------------------------\n",
      "Intercept     13.3985      3.027      4.427      0.000       7.452      19.345\n",
      "day_mon       -3.8508      8.000     -0.481      0.630     -19.567      11.866\n",
      "==============================================================================\n",
      "Omnibus:                      983.363   Durbin-Watson:                   1.651\n",
      "Prob(Omnibus):                  0.000   Jarque-Bera (JB):           808420.980\n",
      "Skew:                          12.799   Prob(JB):                         0.00\n",
      "Kurtosis:                     195.023   Cond. No.                         2.92\n",
      "==============================================================================\n",
      "\n",
      "Warnings:\n",
      "[1] Standard Errors assume that the covariance matrix of the errors is correctly specified.\n",
      "\n",
      "\n",
      "                            OLS Regression Results                            \n",
      "==============================================================================\n",
      "Dep. Variable:                   area   R-squared:                       0.000\n",
      "Model:                            OLS   Adj. R-squared:                 -0.002\n",
      "Method:                 Least Squares   F-statistic:                    0.2157\n",
      "Date:                Sat, 28 Apr 2018   Prob (F-statistic):              0.642\n",
      "Time:                        23:29:25   Log-Likelihood:                -2880.3\n",
      "No. Observations:                 517   AIC:                             5765.\n",
      "Df Residuals:                     515   BIC:                             5773.\n",
      "Df Model:                           1                                         \n",
      "Covariance Type:            nonrobust                                         \n",
      "==============================================================================\n",
      "                 coef    std err          t      P>|t|      [0.025      0.975]\n",
      "------------------------------------------------------------------------------\n",
      "Intercept     13.4647      3.101      4.342      0.000       7.372      19.557\n",
      "day_sun       -3.3602      7.234     -0.464      0.642     -17.573      10.852\n",
      "==============================================================================\n",
      "Omnibus:                      983.143   Durbin-Watson:                   1.644\n",
      "Prob(Omnibus):                  0.000   Jarque-Bera (JB):           807675.865\n",
      "Skew:                          12.793   Prob(JB):                         0.00\n",
      "Kurtosis:                     194.935   Cond. No.                         2.68\n",
      "==============================================================================\n",
      "\n",
      "Warnings:\n",
      "[1] Standard Errors assume that the covariance matrix of the errors is correctly specified.\n",
      "\n",
      "\n",
      "                            OLS Regression Results                            \n",
      "==============================================================================\n",
      "Dep. Variable:                   area   R-squared:                       0.000\n",
      "Model:                            OLS   Adj. R-squared:                 -0.002\n",
      "Method:                 Least Squares   F-statistic:                    0.2086\n",
      "Date:                Sat, 28 Apr 2018   Prob (F-statistic):              0.648\n",
      "Time:                        23:29:25   Log-Likelihood:                -2880.3\n",
      "No. Observations:                 517   AIC:                             5765.\n",
      "Df Residuals:                     515   BIC:                             5773.\n",
      "Df Model:                           1                                         \n",
      "Covariance Type:            nonrobust                                         \n",
      "==============================================================================\n",
      "                 coef    std err          t      P>|t|      [0.025      0.975]\n",
      "------------------------------------------------------------------------------\n",
      "Intercept     12.3793      2.983      4.150      0.000       6.518      18.240\n",
      "day_thu        3.9666      8.685      0.457      0.648     -13.096      21.029\n",
      "==============================================================================\n",
      "Omnibus:                      983.078   Durbin-Watson:                   1.648\n",
      "Prob(Omnibus):                  0.000   Jarque-Bera (JB):           808675.667\n",
      "Skew:                          12.791   Prob(JB):                         0.00\n",
      "Kurtosis:                     195.056   Cond. No.                         3.15\n",
      "==============================================================================\n",
      "\n",
      "Warnings:\n",
      "[1] Standard Errors assume that the covariance matrix of the errors is correctly specified.\n",
      "\n",
      "\n",
      "                            OLS Regression Results                            \n",
      "==============================================================================\n",
      "Dep. Variable:                   area   R-squared:                       0.000\n",
      "Model:                            OLS   Adj. R-squared:                 -0.002\n",
      "Method:                 Least Squares   F-statistic:                 0.0009154\n",
      "Date:                Sat, 28 Apr 2018   Prob (F-statistic):              0.976\n",
      "Time:                        23:29:25   Log-Likelihood:                -2880.4\n",
      "No. Observations:                 517   AIC:                             5765.\n",
      "Df Residuals:                     515   BIC:                             5773.\n",
      "Df Model:                           1                                         \n",
      "Covariance Type:            nonrobust                                         \n",
      "==============================================================================\n",
      "                 coef    std err          t      P>|t|      [0.025      0.975]\n",
      "------------------------------------------------------------------------------\n",
      "Intercept     12.8792      2.994      4.302      0.000       6.998      18.761\n",
      "day_tue       -0.2574      8.509     -0.030      0.976     -16.974      16.459\n",
      "==============================================================================\n",
      "Omnibus:                      983.706   Durbin-Watson:                   1.649\n",
      "Prob(Omnibus):                  0.000   Jarque-Bera (JB):           810175.976\n",
      "Skew:                          12.809   Prob(JB):                         0.00\n",
      "Kurtosis:                     195.233   Cond. No.                         3.09\n",
      "==============================================================================\n",
      "\n",
      "Warnings:\n",
      "[1] Standard Errors assume that the covariance matrix of the errors is correctly specified.\n",
      "\n"
     ]
    }
   ],
   "source": [
    "#Import package\n",
    "import statsmodels.formula.api as smf\n",
    "#Set up statistics; define the data attributes\n",
    "df_attributes = df.columns.values.tolist()\n",
    "number_of_columns = len(df_attributes)\n",
    "\n",
    "#Create models to test each column\n",
    "statistics = list()\n",
    "for idx in range(0, number_of_columns - 1):\n",
    "    model = smf.ols(formula = \"area ~ \" + \n",
    "                    df_attributes[idx], data = df).fit()\n",
    "    \n",
    "    title = 'Model: area ~ ' + df_attributes[idx]\n",
    "#Print the model which allows us to see the relationship between X=all columns except for area and y=area. The relationship in terms of r-squared, p-value, log-likelihood.\n",
    "    print()\n",
    "    print(model.summary())\n",
    "    print()\n",
    "    statistics.append([model.f_pvalue, model.rsquared])"
   ]
  },
  {
   "cell_type": "code",
   "execution_count": 28,
   "metadata": {},
   "outputs": [
    {
     "data": {
      "text/html": [
       "<div>\n",
       "<style scoped>\n",
       "    .dataframe tbody tr th:only-of-type {\n",
       "        vertical-align: middle;\n",
       "    }\n",
       "\n",
       "    .dataframe tbody tr th {\n",
       "        vertical-align: top;\n",
       "    }\n",
       "\n",
       "    .dataframe thead th {\n",
       "        text-align: right;\n",
       "    }\n",
       "</style>\n",
       "<table border=\"1\" class=\"dataframe\">\n",
       "  <thead>\n",
       "    <tr style=\"text-align: right;\">\n",
       "      <th></th>\n",
       "      <th>X</th>\n",
       "      <th>Y</th>\n",
       "      <th>FFMC</th>\n",
       "      <th>DMC</th>\n",
       "      <th>DC</th>\n",
       "      <th>ISI</th>\n",
       "      <th>temp</th>\n",
       "      <th>RH</th>\n",
       "      <th>wind</th>\n",
       "      <th>rain</th>\n",
       "      <th>...</th>\n",
       "      <th>month_jun</th>\n",
       "      <th>month_mar</th>\n",
       "      <th>month_may</th>\n",
       "      <th>month_oct</th>\n",
       "      <th>month_sep</th>\n",
       "      <th>day_fri</th>\n",
       "      <th>day_mon</th>\n",
       "      <th>day_sun</th>\n",
       "      <th>day_thu</th>\n",
       "      <th>day_tue</th>\n",
       "    </tr>\n",
       "  </thead>\n",
       "  <tbody>\n",
       "    <tr>\n",
       "      <th>p-value</th>\n",
       "      <td>0.150096</td>\n",
       "      <td>0.308510</td>\n",
       "      <td>0.362592</td>\n",
       "      <td>0.097335</td>\n",
       "      <td>0.262363</td>\n",
       "      <td>0.851418</td>\n",
       "      <td>0.026101</td>\n",
       "      <td>0.086271</td>\n",
       "      <td>0.779939</td>\n",
       "      <td>0.867310</td>\n",
       "      <td>...</td>\n",
       "      <td>0.644924</td>\n",
       "      <td>0.300773</td>\n",
       "      <td>0.887006</td>\n",
       "      <td>0.701822</td>\n",
       "      <td>0.199054</td>\n",
       "      <td>0.229755</td>\n",
       "      <td>0.630475</td>\n",
       "      <td>0.642497</td>\n",
       "      <td>0.648064</td>\n",
       "      <td>0.975874</td>\n",
       "    </tr>\n",
       "    <tr>\n",
       "      <th>R-squared</th>\n",
       "      <td>0.004018</td>\n",
       "      <td>0.002014</td>\n",
       "      <td>0.001610</td>\n",
       "      <td>0.005328</td>\n",
       "      <td>0.002439</td>\n",
       "      <td>0.000068</td>\n",
       "      <td>0.009573</td>\n",
       "      <td>0.005703</td>\n",
       "      <td>0.000152</td>\n",
       "      <td>0.000054</td>\n",
       "      <td>...</td>\n",
       "      <td>0.000413</td>\n",
       "      <td>0.002079</td>\n",
       "      <td>0.000039</td>\n",
       "      <td>0.000285</td>\n",
       "      <td>0.003200</td>\n",
       "      <td>0.002800</td>\n",
       "      <td>0.000450</td>\n",
       "      <td>0.000419</td>\n",
       "      <td>0.000405</td>\n",
       "      <td>0.000002</td>\n",
       "    </tr>\n",
       "  </tbody>\n",
       "</table>\n",
       "<p>2 rows × 27 columns</p>\n",
       "</div>"
      ],
      "text/plain": [
       "                  X         Y      FFMC       DMC        DC       ISI  \\\n",
       "p-value    0.150096  0.308510  0.362592  0.097335  0.262363  0.851418   \n",
       "R-squared  0.004018  0.002014  0.001610  0.005328  0.002439  0.000068   \n",
       "\n",
       "               temp        RH      wind      rain    ...     month_jun  \\\n",
       "p-value    0.026101  0.086271  0.779939  0.867310    ...      0.644924   \n",
       "R-squared  0.009573  0.005703  0.000152  0.000054    ...      0.000413   \n",
       "\n",
       "           month_mar  month_may  month_oct  month_sep   day_fri   day_mon  \\\n",
       "p-value     0.300773   0.887006   0.701822   0.199054  0.229755  0.630475   \n",
       "R-squared   0.002079   0.000039   0.000285   0.003200  0.002800  0.000450   \n",
       "\n",
       "            day_sun   day_thu   day_tue  \n",
       "p-value    0.642497  0.648064  0.975874  \n",
       "R-squared  0.000419  0.000405  0.000002  \n",
       "\n",
       "[2 rows x 27 columns]"
      ]
     },
     "execution_count": 28,
     "metadata": {},
     "output_type": "execute_result"
    }
   ],
   "source": [
    "#Summarize the model - the p-value and R-squared\n",
    "statistics = pd.DataFrame(statistics, \n",
    "                              index=df_attributes[: number_of_columns - 1], \n",
    "                              columns=['p-value', 'R-squared'])\n",
    "statistics.T"
   ]
  },
  {
   "cell_type": "code",
   "execution_count": 29,
   "metadata": {},
   "outputs": [
    {
     "data": {
      "text/html": [
       "<div>\n",
       "<style scoped>\n",
       "    .dataframe tbody tr th:only-of-type {\n",
       "        vertical-align: middle;\n",
       "    }\n",
       "\n",
       "    .dataframe tbody tr th {\n",
       "        vertical-align: top;\n",
       "    }\n",
       "\n",
       "    .dataframe thead th {\n",
       "        text-align: right;\n",
       "    }\n",
       "</style>\n",
       "<table border=\"1\" class=\"dataframe\">\n",
       "  <thead>\n",
       "    <tr style=\"text-align: right;\">\n",
       "      <th></th>\n",
       "      <th>p-value</th>\n",
       "      <th>R-squared</th>\n",
       "    </tr>\n",
       "  </thead>\n",
       "  <tbody>\n",
       "    <tr>\n",
       "      <th>temp</th>\n",
       "      <td>0.026101</td>\n",
       "      <td>0.009573</td>\n",
       "    </tr>\n",
       "    <tr>\n",
       "      <th>area</th>\n",
       "      <td>0.000000</td>\n",
       "      <td>1.000000</td>\n",
       "    </tr>\n",
       "  </tbody>\n",
       "</table>\n",
       "</div>"
      ],
      "text/plain": [
       "       p-value  R-squared\n",
       "temp  0.026101   0.009573\n",
       "area  0.000000   1.000000"
      ]
     },
     "execution_count": 29,
     "metadata": {},
     "output_type": "execute_result"
    }
   ],
   "source": [
    "#Find statistically significant column\n",
    "statistics[statistics['p-value'] < 0.05]\n",
    "\n",
    "##temp is the only statistically significant column (p-value = 0.026) accounting for (1% of forest fires)"
   ]
  },
  {
   "cell_type": "code",
   "execution_count": 30,
   "metadata": {},
   "outputs": [
    {
     "name": "stdout",
     "output_type": "stream",
     "text": [
      "                            OLS Regression Results                            \n",
      "==============================================================================\n",
      "Dep. Variable:                   area   R-squared:                       0.010\n",
      "Model:                            OLS   Adj. R-squared:                  0.008\n",
      "Method:                 Least Squares   F-statistic:                     4.978\n",
      "Date:                Sat, 28 Apr 2018   Prob (F-statistic):             0.0261\n",
      "Time:                        23:29:25   Log-Likelihood:                -2878.0\n",
      "No. Observations:                 517   AIC:                             5760.\n",
      "Df Residuals:                     515   BIC:                             5768.\n",
      "Df Model:                           1                                         \n",
      "Covariance Type:            nonrobust                                         \n",
      "==============================================================================\n",
      "                 coef    std err          t      P>|t|      [0.025      0.975]\n",
      "------------------------------------------------------------------------------\n",
      "Intercept     -7.4138      9.500     -0.780      0.435     -26.077      11.249\n",
      "temp           1.0726      0.481      2.231      0.026       0.128       2.017\n",
      "==============================================================================\n",
      "Omnibus:                      979.270   Durbin-Watson:                   1.650\n",
      "Prob(Omnibus):                  0.000   Jarque-Bera (JB):           793772.021\n",
      "Skew:                          12.687   Prob(JB):                         0.00\n",
      "Kurtosis:                     193.275   Cond. No.                         67.5\n",
      "==============================================================================\n",
      "\n",
      "Warnings:\n",
      "[1] Standard Errors assume that the covariance matrix of the errors is correctly specified.\n"
     ]
    }
   ],
   "source": [
    "#Linear regression relationship between area and temp\n",
    "print((smf.ols(formula = \"area ~ temp\", data = df).fit()).summary())"
   ]
  },
  {
   "cell_type": "code",
   "execution_count": 31,
   "metadata": {},
   "outputs": [],
   "source": [
    "## :: Train/Test Split ::\n",
    "#Import LogisiticRegression and Train_test_split\n",
    "from sklearn.linear_model import LogisticRegression\n",
    "from sklearn.model_selection import train_test_split\n",
    "\n",
    "#Create training and testing variabels\n",
    "X_train, X_test, y_train, y_test = train_test_split(data, target, shuffle=True, test_size=0.5, random_state=0)"
   ]
  },
  {
   "cell_type": "code",
   "execution_count": 32,
   "metadata": {},
   "outputs": [
    {
     "name": "stdout",
     "output_type": "stream",
     "text": [
      "(258, 27)\n",
      "(259, 27)\n",
      "(258,)\n",
      "(259,)\n"
     ]
    }
   ],
   "source": [
    "#Print variables\n",
    "print(X_train.shape)\n",
    "print(X_test.shape)\n",
    "print(y_train.shape)\n",
    "print(y_test.shape)"
   ]
  },
  {
   "cell_type": "code",
   "execution_count": 33,
   "metadata": {},
   "outputs": [
    {
     "data": {
      "text/plain": [
       "array([10.93205541,  9.95865732, 15.37412386, 30.87723729,  5.66272802])"
      ]
     },
     "execution_count": 33,
     "metadata": {},
     "output_type": "execute_result"
    }
   ],
   "source": [
    "#Model with the training data to predict test data \n",
    "lm = linear_model.LinearRegression()\n",
    "model = lm.fit(X_train, y_train)\n",
    "predictions = lm.predict(X_test)\n",
    "predictions[0:5]"
   ]
  },
  {
   "cell_type": "code",
   "execution_count": 34,
   "metadata": {},
   "outputs": [
    {
     "name": "stdout",
     "output_type": "stream",
     "text": [
      "KFold(n_splits=2, random_state=None, shuffle=False)\n"
     ]
    },
    {
     "data": {
      "text/plain": [
       "KFold(n_splits=2, random_state=None, shuffle=False)"
      ]
     },
     "execution_count": 34,
     "metadata": {},
     "output_type": "execute_result"
    }
   ],
   "source": [
    "## :: Cross Validation ::\n",
    "#Import KFold\n",
    "from sklearn.model_selection import KFold \n",
    "#Create array(2)\n",
    "X = np.array([[1,2], [3,4], [1,2], [3,4]])\n",
    "y = np.array([1,2,3,4])\n",
    "#Define split\n",
    "kf = KFold(n_splits=2)\n",
    "kf.get_n_splits(X)\n",
    "print(kf)\n",
    "KFold(n_splits=2, random_state=None, shuffle=False)"
   ]
  },
  {
   "cell_type": "code",
   "execution_count": 35,
   "metadata": {},
   "outputs": [
    {
     "name": "stdout",
     "output_type": "stream",
     "text": [
      "Train: [2 3] Test: [0 1]\n",
      "Train: [0 1] Test: [2 3]\n"
     ]
    }
   ],
   "source": [
    "#This function will split the data(df)\n",
    "for train_index, test_index in kf.split(X):\n",
    "    print(\"Train:\", train_index, \"Test:\", test_index)\n",
    "    X_train, X_test = X[train_index], X[test_index]\n",
    "    y_train, y_test = y[train_index], y[test_index]"
   ]
  },
  {
   "cell_type": "code",
   "execution_count": 36,
   "metadata": {},
   "outputs": [
    {
     "data": {
      "text/plain": [
       "array([0.  , 0.36, 0.43, 0.47, 0.55])"
      ]
     },
     "execution_count": 36,
     "metadata": {},
     "output_type": "execute_result"
    }
   ],
   "source": [
    "df['area'].unique()[0:5]"
   ]
  },
  {
   "cell_type": "code",
   "execution_count": 37,
   "metadata": {},
   "outputs": [],
   "source": [
    "#Import DecisionTreeRegressor and StandardScaler\n",
    "from sklearn.tree import DecisionTreeRegressor\n",
    "from sklearn.preprocessing import StandardScaler\n",
    "scaler = StandardScaler()"
   ]
  },
  {
   "cell_type": "code",
   "execution_count": 38,
   "metadata": {},
   "outputs": [
    {
     "name": "stdout",
     "output_type": "stream",
     "text": [
      "1.5811388300841898\n"
     ]
    },
    {
     "name": "stderr",
     "output_type": "stream",
     "text": [
      "/anaconda3/lib/python3.6/site-packages/sklearn/utils/validation.py:475: DataConversionWarning: Data with input dtype int64 was converted to float64 by StandardScaler.\n",
      "  warnings.warn(msg, DataConversionWarning)\n"
     ]
    }
   ],
   "source": [
    "#Criterior for the decision tree regressor is Mean Absolute Error(MAE)\n",
    "dt = DecisionTreeRegressor(criterion='mae')\n",
    "#Build a decision tree regressor from the training and testing set\n",
    "dt.fit(scaler.fit_transform(X_train, y_test),\n",
    "               scaler.fit_transform(X_test, y_train))\n",
    "x=dt.predict(X_test)\n",
    "print(np.sqrt(np.mean((y_test-x))))"
   ]
  },
  {
   "cell_type": "code",
   "execution_count": 39,
   "metadata": {},
   "outputs": [
    {
     "name": "stdout",
     "output_type": "stream",
     "text": [
      "<class 'pandas.core.frame.DataFrame'>\n",
      "RangeIndex: 517 entries, 0 to 516\n",
      "Data columns (total 28 columns):\n",
      "X            517 non-null int64\n",
      "Y            517 non-null int64\n",
      "FFMC         517 non-null float64\n",
      "DMC          517 non-null float64\n",
      "DC           517 non-null float64\n",
      "ISI          517 non-null float64\n",
      "temp         517 non-null float64\n",
      "RH           517 non-null int64\n",
      "wind         517 non-null float64\n",
      "rain         517 non-null float64\n",
      "area         517 non-null float64\n",
      "month_apr    517 non-null uint8\n",
      "month_aug    517 non-null uint8\n",
      "month_dec    517 non-null uint8\n",
      "month_feb    517 non-null uint8\n",
      "month_jan    517 non-null uint8\n",
      "month_jul    517 non-null uint8\n",
      "month_jun    517 non-null uint8\n",
      "month_mar    517 non-null uint8\n",
      "month_may    517 non-null uint8\n",
      "month_oct    517 non-null uint8\n",
      "month_sep    517 non-null uint8\n",
      "day_fri      517 non-null uint8\n",
      "day_mon      517 non-null uint8\n",
      "day_sun      517 non-null uint8\n",
      "day_thu      517 non-null uint8\n",
      "day_tue      517 non-null uint8\n",
      "day_wed      517 non-null uint8\n",
      "dtypes: float64(8), int64(3), uint8(17)\n",
      "memory usage: 53.1 KB\n"
     ]
    }
   ],
   "source": [
    "## :: Logisitic Regression ::\n",
    "#Check if dataset size is sufficient (50 records per feature=good)\n",
    "forestfires_dmy = pd.concat([df], axis=1)\n",
    "forestfires_dmy.head()\n",
    "forestfires_dmy.info()"
   ]
  },
  {
   "cell_type": "code",
   "execution_count": 40,
   "metadata": {},
   "outputs": [
    {
     "name": "stderr",
     "output_type": "stream",
     "text": [
      "/anaconda3/lib/python3.6/site-packages/ipykernel_launcher.py:1: DeprecationWarning: \n",
      ".ix is deprecated. Please use\n",
      ".loc for label based indexing or\n",
      ".iloc for positional indexing\n",
      "\n",
      "See the documentation here:\n",
      "http://pandas.pydata.org/pandas-docs/stable/indexing.html#ix-indexer-is-deprecated\n",
      "  \"\"\"Entry point for launching an IPython kernel.\n"
     ]
    }
   ],
   "source": [
    "X = df.ix[:,(1,2,3,4,5,6,)].values\n",
    "y = df.ix[:,0].values"
   ]
  },
  {
   "cell_type": "code",
   "execution_count": 41,
   "metadata": {},
   "outputs": [],
   "source": [
    "X_train, X_test, y_train, y_test = train_test_split(X, y, test_size=0.5, random_state=0)"
   ]
  },
  {
   "cell_type": "code",
   "execution_count": 42,
   "metadata": {},
   "outputs": [
    {
     "data": {
      "text/plain": [
       "LogisticRegression(C=1.0, class_weight=None, dual=False, fit_intercept=True,\n",
       "          intercept_scaling=1, max_iter=100, multi_class='ovr', n_jobs=1,\n",
       "          penalty='l2', random_state=None, solver='liblinear', tol=0.0001,\n",
       "          verbose=0, warm_start=False)"
      ]
     },
     "execution_count": 42,
     "metadata": {},
     "output_type": "execute_result"
    }
   ],
   "source": [
    "#Create the model\n",
    "logreg = LogisticRegression()\n",
    "logreg.fit(X_train, y_train)"
   ]
  },
  {
   "cell_type": "code",
   "execution_count": 43,
   "metadata": {},
   "outputs": [],
   "source": [
    "y_pred = logreg.predict(X_test)"
   ]
  },
  {
   "cell_type": "code",
   "execution_count": 44,
   "metadata": {},
   "outputs": [
    {
     "data": {
      "text/plain": [
       "array([[ 6,  4,  0,  4,  0,  0,  4,  2,  0],\n",
       "       [ 9,  6,  0, 16,  0,  0,  3,  3,  1],\n",
       "       [ 1,  3,  0, 23,  0,  0,  4,  4,  1],\n",
       "       [ 8,  4,  0, 19,  0,  0,  2,  2,  0],\n",
       "       [ 0,  3,  0, 11,  0,  0,  1,  2,  0]])"
      ]
     },
     "execution_count": 44,
     "metadata": {},
     "output_type": "execute_result"
    }
   ],
   "source": [
    "from sklearn.metrics import confusion_matrix \n",
    "confusion_matrix = confusion_matrix(y_test, y_pred)\n",
    "confusion_matrix [0:5]"
   ]
  },
  {
   "cell_type": "code",
   "execution_count": 45,
   "metadata": {},
   "outputs": [
    {
     "name": "stdout",
     "output_type": "stream",
     "text": [
      "             precision    recall  f1-score   support\n",
      "\n",
      "          1       0.19      0.30      0.24        20\n",
      "          2       0.29      0.16      0.20        38\n",
      "          3       0.00      0.00      0.00        36\n",
      "          4       0.14      0.54      0.22        35\n",
      "          5       0.00      0.00      0.00        17\n",
      "          6       1.00      0.02      0.04        46\n",
      "          7       0.17      0.10      0.12        30\n",
      "          8       0.48      0.80      0.60        30\n",
      "          9       0.00      0.00      0.00         7\n",
      "\n",
      "avg / total       0.33      0.23      0.17       259\n",
      "\n"
     ]
    },
    {
     "name": "stderr",
     "output_type": "stream",
     "text": [
      "/anaconda3/lib/python3.6/site-packages/sklearn/metrics/classification.py:1135: UndefinedMetricWarning: Precision and F-score are ill-defined and being set to 0.0 in labels with no predicted samples.\n",
      "  'precision', 'predicted', average, warn_for)\n"
     ]
    }
   ],
   "source": [
    "from sklearn.metrics import classification_report\n",
    "print(classification_report(y_test, y_pred))"
   ]
  },
  {
   "cell_type": "code",
   "execution_count": null,
   "metadata": {},
   "outputs": [],
   "source": []
  }
 ],
 "metadata": {
  "kernelspec": {
   "display_name": "Python 3",
   "language": "python",
   "name": "python3"
  },
  "language_info": {
   "codemirror_mode": {
    "name": "ipython",
    "version": 3
   },
   "file_extension": ".py",
   "mimetype": "text/x-python",
   "name": "python",
   "nbconvert_exporter": "python",
   "pygments_lexer": "ipython3",
   "version": "3.6.4"
  }
 },
 "nbformat": 4,
 "nbformat_minor": 2
}
